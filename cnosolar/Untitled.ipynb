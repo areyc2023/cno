{
 "cells": [
  {
   "cell_type": "code",
   "execution_count": 1,
   "metadata": {},
   "outputs": [],
   "source": [
    "import pandas as pd\n",
    "import numpy as np\n",
    "import pvlib"
   ]
  },
  {
   "cell_type": "code",
   "execution_count": 14,
   "metadata": {},
   "outputs": [
    {
     "data": {
      "text/plain": [
       "{'T_NOCT': 45.0,\n",
       " 'Technology': 'mtSiMono',\n",
       " 'N_s': 72,\n",
       " 'I_sc_ref': 13.85,\n",
       " 'V_oc_ref': 49.5,\n",
       " 'I_mp_ref': 12.97,\n",
       " 'V_mp_ref': 41.65,\n",
       " 'alpha_sc': 0.049964,\n",
       " 'beta_oc': -0.282828,\n",
       " 'gamma_r': -0.339,\n",
       " 'STC': 540.0}"
      ]
     },
     "execution_count": 14,
     "metadata": {},
     "output_type": "execute_result"
    }
   ],
   "source": [
    "module = {\n",
    "    \"Manufacturer\": \"Longi Solar\",\n",
    "    \"Model\": \"18X-LR5-72HBD-540M\",\n",
    "    \"Technol\": \"mtSiMono\",\n",
    "    \"DataSource\": \"Longi Xi'an 202006\",\n",
    "    \"RelEffic800\": 0.05,\n",
    "    \"RelEffic400\": -1.32,\n",
    "    \"RelEffic200\": -4.0,\n",
    "    \"NCelS\": 72,\n",
    "    \"NCelP\": 2,\n",
    "    \"NDiode\": 3,\n",
    "    \"GRef\": 1000.0,\n",
    "    \"TRef\": 25.0,\n",
    "    \"PNom\": 540.0,\n",
    "    \"PNomTolLow\": \"0.00\",\n",
    "    \"PNomTolUp\": \"0.90\",\n",
    "    \"Isc\": 13.85,\n",
    "    \"Voc\": 49.5,\n",
    "    \"Imp\": 12.97,\n",
    "    \"Vmp\": 41.65,\n",
    "    \"muISC\": 6.92,\n",
    "    \"muVocSpec\": -140.0,\n",
    "    \"mIsc_percent\": 0.0499638989169675,\n",
    "    \"mVoc_percent\": -0.2828282828282829,\n",
    "    \"muPmpReq\": -0.339,\n",
    "    \"RShunt\": 300.0,\n",
    "    \"Rp_0\": 1100.0,\n",
    "    \"Rp_Exp\": 2.1,\n",
    "    \"RShunt_stc\": 397.9651426023855,\n",
    "    \"RSerie\": 0.171,\n",
    "    \"Gamma\": 1.044,\n",
    "    \"muGamma\": -0.0004,\n",
    "    \"IAM_Point_1\": \"0.0,1.00000\",\n",
    "    \"IAM_Point_2\": \"30.0,1.01300\",\n",
    "    \"IAM_Point_3\": \"50.0,1.02100\",\n",
    "    \"IAM_Point_4\": \"65.0,0.97600\",\n",
    "    \"IAM_Point_5\": \"70.0,0.93600\",\n",
    "    \"IAM_Point_6\": \"75.0,0.85600\",\n",
    "    \"IAM_Point_7\": \"80.0,0.75200\",\n",
    "    \"IAM_Point_8\": \"85.0,0.59100\",\n",
    "    \"IAM_Point_9\": \"90.0,0.00000\",\n",
    "    \"IAM\": [\n",
    "      [\n",
    "        0.0,\n",
    "        30.0,\n",
    "        50.0,\n",
    "        65.0,\n",
    "        70.0,\n",
    "        75.0,\n",
    "        80.0,\n",
    "        85.0,\n",
    "        90.0\n",
    "      ],\n",
    "      [\n",
    "        1.0,\n",
    "        1.013,\n",
    "        1.021,\n",
    "        0.976,\n",
    "        0.936,\n",
    "        0.856,\n",
    "        0.752,\n",
    "        0.591,\n",
    "        0.0\n",
    "      ]\n",
    "    ],\n",
    "    \"OperPoint_Point_1\": \"False,800,25.0,0.05,0.00,0.000,0.000,0.00\",\n",
    "    \"OperPoint_Point_2\": \"False,600,25.0,-0.29,0.00,0.000,0.000,0.00\",\n",
    "    \"OperPoint_Point_3\": \"False,400,25.0,-1.32,0.00,0.000,0.000,0.00\",\n",
    "    \"OperPoint_Point_4\": \"False,200,25.0,-4.00,0.00,0.000,0.000,0.00\",\n",
    "    \"I_o_ref\": 1.0016504972936322e-10,\n",
    "    \"EgRef\": 1.121,\n",
    "    \"manufacturer\": \"Longi Solar\",\n",
    "    \"module_name\": \"18X-LR5-72HBD-540M\",\n",
    "    \"Pmpp\": 540.0,\n",
    "    \"Impp\": 12.97,\n",
    "    \"Vmpp\": 41.65,\n",
    "    \"mIsc\": 0.00692,\n",
    "    \"mVocSpec\": -0.14,\n",
    "    \"mPmpp\": -0.339,\n",
    "    \"Rshunt\": 300.0,\n",
    "    \"Rsh 0\": 1100.0,\n",
    "    \"Rshexp\": 2.1,\n",
    "    \"Rserie\": 0.171,\n",
    "    \"gamma_ref\": 1.044,\n",
    "    \"mu_gamma\": -0.0004,\n",
    "    \"I_L_ref\": 13.85,\n",
    "    \"R_sh_ref\": 397.9651426023855,\n",
    "    \"R_sh_0\": 1100.0,\n",
    "    \"R_s\": 0.171,\n",
    "    \"R_sh_exp\": 2.1,\n",
    "    \"cells_in_series\": 72,\n",
    "    \"alpha_sc\": 0.00692,\n",
    "    \"Adjust\": 0,\n",
    "    \"Technology\": \"mtSiMono\",\n",
    "    \"T_NOCT\": 45.0,\n",
    "    \"a_ref\": 1.9329780060000004\n",
    "  }\n",
    "\n",
    "_module = {'T_NOCT': module['TRef']+20,\n",
    "                      'Technology': module['Technol'],\n",
    "                      'N_s': module['NCelS'],\n",
    "                      'I_sc_ref': module['Isc'],\n",
    "                      'V_oc_ref': module['Voc'],\n",
    "                      'I_mp_ref': module['Imp'],\n",
    "                      'V_mp_ref': module['Vmp'],\n",
    "                      'alpha_sc': np.round(module['mIsc_percent'], 6), # %/ºC (÷ 100 * Isc -> A/ºC)\n",
    "                      'beta_oc': np.round(module['mVoc_percent'], 6), # %/ºC (÷ 100 * Voc -> V/ºC)\n",
    "                      'gamma_r': module['mPmpp'], # %/ºC\n",
    "                      'STC': module['Pmpp']}\n",
    "\n",
    "_module"
   ]
  },
  {
   "cell_type": "code",
   "execution_count": 52,
   "metadata": {},
   "outputs": [
    {
     "data": {
      "text/plain": [
       "'monoSi'"
      ]
     },
     "execution_count": 52,
     "metadata": {},
     "output_type": "execute_result"
    }
   ],
   "source": [
    "_module = {\n",
    "    \"T_NOCT\": 43.0,\n",
    "    \"Technology\": \"monoSi\",\n",
    "    \"N_s\": 72.0,\n",
    "    \"I_sc_ref\": 18.24,\n",
    "    \"V_oc_ref\": 37.5,\n",
    "    \"I_mp_ref\": 17.16,\n",
    "    \"V_mp_ref\": 31.2,\n",
    "    \"alpha_sc\": 0.007296,\n",
    "    \"beta_oc\": -0.09375,\n",
    "    \"gamma_r\": -0.34,\n",
    "    \"STC\": 535.0\n",
    "  }\n",
    "\n",
    "_tocheck = ['I_L_ref', 'I_o_ref', 'R_s', 'R_sh_ref', 'a_ref', 'Adjust']\n",
    "\n",
    "check = [item for item in _tocheck if item not in _module.keys()]\n",
    "check\n",
    "\n",
    "t = _module['Technology']\n",
    "t"
   ]
  },
  {
   "cell_type": "code",
   "execution_count": 27,
   "metadata": {},
   "outputs": [
    {
     "data": {
      "text/plain": [
       "0.04000000000000001"
      ]
     },
     "execution_count": 27,
     "metadata": {},
     "output_type": "execute_result"
    }
   ],
   "source": [
    "_module['alpha_sc'] = (_module['alpha_sc']*100)/_module['I_sc_ref']\n",
    "_module['alpha_sc']"
   ]
  },
  {
   "cell_type": "code",
   "execution_count": 31,
   "metadata": {},
   "outputs": [
    {
     "data": {
      "text/plain": [
       "-9.375"
      ]
     },
     "execution_count": 31,
     "metadata": {},
     "output_type": "execute_result"
    }
   ],
   "source": [
    "_module['beta_oc'] = (_module['beta_oc']*100)\n",
    "_module['beta_oc']"
   ]
  },
  {
   "cell_type": "code",
   "execution_count": 32,
   "metadata": {},
   "outputs": [
    {
     "name": "stdout",
     "output_type": "stream",
     "text": [
      "6parsolve simulation error\n",
      " : could not solve, check inputs\n",
      "6parsolve simulation error\n",
      " : could not solve, check inputs\n",
      "6parsolve simulation error\n",
      " : could not solve, check inputs\n",
      "6parsolve simulation error\n",
      " : could not solve, check inputs\n",
      "6parsolve simulation error\n",
      " : could not solve, check inputs\n",
      "6parsolve simulation error\n",
      " : could not solve, check inputs\n",
      "6parsolve simulation error\n",
      " : could not solve, check inputs\n",
      "6parsolve simulation error\n",
      " : could not solve, check inputs\n",
      "I_L_ref: None\n",
      "I_o_ref: None\n",
      "R_s: None\n",
      "R_sh_ref: None\n",
      "a_ref: None\n",
      "Adjust: None\n"
     ]
    }
   ],
   "source": [
    "if t in ['Mono-c-Si', 'monoSi', 'monosi', 'c-Si', 'xsi', 'mtSiMono']:\n",
    "    module_tec = 'monoSi'\n",
    "elif t in ['Multi-c-Si', 'multiSi',  'multisi', 'mc-Si', 'EFG mc-Si']:\n",
    "    module_tec = 'multiSi'\n",
    "elif t in ['polySi',  'polysi', 'mtSiPoly']:\n",
    "    module_tec = 'poliSi'\n",
    "elif t in ['CIS',  'cis']:\n",
    "    module_tec = 'cis'\n",
    "elif t in ['CIGS', 'cigs']:\n",
    "    module_tec = 'cigs'\n",
    "elif t in ['CdTe', 'cdte', 'Thin Film',  'GaAs']:\n",
    "    module_tec = 'cdte'\n",
    "elif t in ['amorphous', 'asi', 'a-Si / mono-Si', '2-a-Si',  '3-a-Si',  'Si-Film', 'HIT-Si']:\n",
    "    module_tec = 'amorphous'\n",
    "else:\n",
    "    module_tec = None\n",
    "\n",
    "if len(check) > 0:            \n",
    "    for i in [module_tec, 'monoSi','multiSi','polySi','cis','cigs','cdte','amorphous']:\n",
    "        try:\n",
    "            I_L_ref, I_o_ref, R_s, R_sh_ref, a_ref, Adjust = pvlib.ivtools.sdm.fit_cec_sam(celltype=i, \n",
    "                                                                                           v_mp=_module['V_mp_ref'], \n",
    "                                                                                           i_mp=_module['I_mp_ref'], \n",
    "                                                                                           v_oc=_module['V_oc_ref'], \n",
    "                                                                                           i_sc=_module['I_sc_ref'], \n",
    "                                                                                           alpha_sc=(_module['alpha_sc']/100)*_module['I_sc_ref'], \n",
    "                                                                                           beta_voc=(_module['beta_oc']/100)*_module['V_oc_ref'], \n",
    "                                                                                           gamma_pmp=_module['gamma_r'], \n",
    "                                                                                           cells_in_series=_module['N_s'], \n",
    "                                                                                           temp_ref=25)\n",
    "        except:\n",
    "            I_L_ref, I_o_ref, R_s, R_sh_ref, a_ref, Adjust = None, None, None, None, None, None\n",
    "\n",
    "        if I_L_ref != None:\n",
    "            break\n",
    "            \n",
    "print(f'I_L_ref: {I_L_ref}') \n",
    "print(f'I_o_ref: {I_o_ref}') \n",
    "print(f'R_s: {R_s}') \n",
    "print(f'R_sh_ref: {R_sh_ref}') \n",
    "print(f'a_ref: {a_ref}') \n",
    "print(f'Adjust: {Adjust}')"
   ]
  },
  {
   "cell_type": "code",
   "execution_count": null,
   "metadata": {},
   "outputs": [],
   "source": []
  },
  {
   "cell_type": "code",
   "execution_count": null,
   "metadata": {},
   "outputs": [],
   "source": []
  },
  {
   "cell_type": "code",
   "execution_count": null,
   "metadata": {},
   "outputs": [],
   "source": []
  },
  {
   "cell_type": "code",
   "execution_count": null,
   "metadata": {},
   "outputs": [],
   "source": [
    "df = pvlib.pvsystem.retrieve_sam(name='CECInverter').T\n",
    "\n",
    "df.head()"
   ]
  },
  {
   "cell_type": "code",
   "execution_count": 158,
   "metadata": {},
   "outputs": [
    {
     "data": {
      "text/plain": [
       "array(['mc-Si', 'c-Si', 'Si-Film', 'CdTe', '2-a-Si', 'HIT-Si',\n",
       "       'EFG mc-Si', 'CIS', 'GaAs', '3-a-Si', 'a-Si / mono-Si'],\n",
       "      dtype=object)"
      ]
     },
     "execution_count": 158,
     "metadata": {},
     "output_type": "execute_result"
    }
   ],
   "source": [
    "df = pd.read_csv('./sandiamod.csv')\n",
    "df = df.set_index('Unnamed: 0')\n",
    "df = df.T\n",
    "\n",
    "df['Material'].unique()"
   ]
  },
  {
   "cell_type": "code",
   "execution_count": 175,
   "metadata": {},
   "outputs": [
    {
     "data": {
      "text/plain": [
       "14"
      ]
     },
     "execution_count": 175,
     "metadata": {},
     "output_type": "execute_result"
    }
   ],
   "source": [
    "len(df.loc[df['Material'] == 'CIS'])"
   ]
  },
  {
   "cell_type": "code",
   "execution_count": 176,
   "metadata": {
    "scrolled": true
   },
   "outputs": [
    {
     "data": {
      "text/plain": [
       "{'T_NOCT': 45,\n",
       " 'Technology': 'CIS',\n",
       " 'N_s': 50.0,\n",
       " 'I_sc_ref': 0.65,\n",
       " 'V_oc_ref': 25.26,\n",
       " 'I_mp_ref': 0.57,\n",
       " 'V_mp_ref': 19.63,\n",
       " 'alpha_sc': 0.0,\n",
       " 'beta_oc': -0.463183,\n",
       " 'gamma_r': 0,\n",
       " 'STC': 11.19}"
      ]
     },
     "execution_count": 176,
     "metadata": {},
     "output_type": "execute_result"
    }
   ],
   "source": [
    "module = df.loc[df['Material'] == 'CIS'].iloc[0]\n",
    "\n",
    "_module = {'T_NOCT': 45,\n",
    "          'Technology': module['Material'],\n",
    "          'N_s': float(module['Cells_in_Series']),\n",
    "          'I_sc_ref': float(module['Isco']),\n",
    "          'V_oc_ref': float(module['Voco']),\n",
    "          'I_mp_ref': float(module['Impo']),\n",
    "          'V_mp_ref': float(module['Vmpo']),\n",
    "          'alpha_sc': np.round(float(module['Aisc'])*100, 6), # %/ºC (÷ 100 * Isc -> A/ºC)\n",
    "          'beta_oc': np.round(float(module['Bvoco'])*100/float(module['Voco']), 6), # %/ºC (÷ 100 * Voc -> V/ºC)\n",
    "          'gamma_r': 0,\n",
    "          'STC': np.round(float(module['Impo'])*float(module['Vmpo']), 2)}\n",
    "\n",
    "_module"
   ]
  },
  {
   "cell_type": "code",
   "execution_count": 177,
   "metadata": {},
   "outputs": [
    {
     "name": "stdout",
     "output_type": "stream",
     "text": [
      "6parsolve simulation error\n",
      " : could not solve, check inputs\n",
      "6parsolve simulation error\n",
      " : could not solve, check inputs\n",
      "6parsolve simulation error\n",
      " : could not solve, check inputs\n",
      "6parsolve simulation error\n",
      " : could not solve, check inputs\n",
      "6parsolve simulation error\n",
      " : could not solve, check inputs\n",
      "6parsolve simulation error\n",
      " : could not solve, check inputs\n",
      "6parsolve simulation error\n",
      " : could not solve, check inputs\n",
      "6parsolve simulation error\n",
      " : could not solve, check inputs\n",
      "I_L_ref: None\n",
      "I_o_ref: None\n",
      "R_s: None\n",
      "R_sh_ref: None\n",
      "a_ref: None\n",
      "Adjust: None\n"
     ]
    }
   ],
   "source": [
    "if t in ['Mono-c-Si', 'monoSi', 'monosi', 'c-Si', 'xsi', 'mtSiMono']:\n",
    "    module_tec = 'monoSi'\n",
    "elif t in ['Multi-c-Si', 'multiSi',  'multisi', 'mc-Si', 'EFG mc-Si']:\n",
    "    module_tec = 'multiSi'\n",
    "elif t in ['polySi',  'polysi', 'mtSiPoly']:\n",
    "    module_tec = 'poliSi'\n",
    "elif t in ['CIS',  'cis']:\n",
    "    module_tec = 'cis'\n",
    "elif t in ['CIGS', 'cigs']:\n",
    "    module_tec = 'cigs'\n",
    "elif t in ['CdTe', 'cdte', 'Thin Film',  'GaAs']:\n",
    "    module_tec = 'cdte'\n",
    "elif t in ['amorphous', 'asi', 'a-Si / mono-Si', '2-a-Si',  '3-a-Si',  'Si-Film', 'HIT-Si']:\n",
    "    module_tec = 'amorphous'\n",
    "else:\n",
    "    module_tec = None\n",
    "\n",
    "if len(check) > 0:            \n",
    "    for i in [module_tec, 'monoSi','multiSi','polySi','cis','cigs','cdte','amorphous']:\n",
    "        try:\n",
    "            I_L_ref, I_o_ref, R_s, R_sh_ref, a_ref, Adjust = pvlib.ivtools.sdm.fit_cec_sam(celltype=i, \n",
    "                                                                                           v_mp=_module['V_mp_ref'], \n",
    "                                                                                           i_mp=_module['I_mp_ref'], \n",
    "                                                                                           v_oc=_module['V_oc_ref'], \n",
    "                                                                                           i_sc=_module['I_sc_ref'], \n",
    "                                                                                           alpha_sc=(_module['alpha_sc']/100)*_module['I_sc_ref'], \n",
    "                                                                                           beta_voc=(_module['beta_oc']/100)*_module['V_oc_ref'],\n",
    "                                                                                           gamma_pmp=_module['gamma_r'], \n",
    "                                                                                           cells_in_series=_module['N_s'], \n",
    "                                                                                           temp_ref=25)\n",
    "        except:\n",
    "            I_L_ref, I_o_ref, R_s, R_sh_ref, a_ref, Adjust = None, None, None, None, None, None\n",
    "\n",
    "        if I_L_ref != None:\n",
    "            break\n",
    "\n",
    "print(f'I_L_ref: {I_L_ref}') \n",
    "print(f'I_o_ref: {I_o_ref}') \n",
    "print(f'R_s: {R_s}') \n",
    "print(f'R_sh_ref: {R_sh_ref}') \n",
    "print(f'a_ref: {a_ref}') \n",
    "print(f'Adjust: {Adjust}')\n",
    "\n",
    "'''\n",
    "print(f'I_L_ref: {np.round(float(module.I_L_ref) - I_L_ref, 2)}') \n",
    "print(f'I_o_ref: {np.round(float(module.I_o_ref) - I_o_ref, 2)}') \n",
    "print(f'R_s: {np.round(float(module.R_s) - R_s, 2)}') \n",
    "print(f'R_sh_ref: {np.round(float(module.R_sh_ref) - R_sh_ref, 2)}') \n",
    "print(f'a_ref: {np.round(float(module.a_ref) - a_ref, 2)}') \n",
    "print(f'Adjust: {np.round(float(module.Adjust) - Adjust, 2)}')\n",
    "''';"
   ]
  },
  {
   "cell_type": "markdown",
   "metadata": {},
   "source": [
    "| index | monoSi | multiSi | poliSi | cis | cigs | cdte | amorphous |\n",
    "|-------|--------|---------|--------|-----|------|------|-----------|\n",
    "| 1     |  SD29         | Ejemplo3_Inv1      | Ejemplo2       |     |      | Advanced_Solar_Power__Hangzhou__ASP_S1_80     |           |\n",
    "| 2     |  SD51         | Ejemplo3_Inv2      |        |     |      | Applied_Materials_1_4_Size_Single_Junction_Version_1_0     |           |\n",
    "| 3     |  Planta1      | Chint_Solar__Zhejiang__Co___Ltd_CHSM6610PR_260 |        |     |      |      |           |\n",
    "| 4     |  Planta2_Inv1 | Amerisolar_Worldwide_Energy_and_Manufacturing_USA_Co___Ltd_AS_6P30_260W |      |     |      |      |           |\n",
    "| 5     |  A10Green_Technology_A10J_S72_175   | EcoSolargy_ECO240S156P_60  |        |     |      |      |           |\n",
    "| 6     |  American_Solar_Wholesale_ASW_250M  | GE_Energy_GEPVp_066_G      |        |     |      |      |           |\n",
    "| 7     |  Andalay_Solar_ST175_1              | Grape_Solar_GS_P_275_Fab1  |        |     |      |      |           |\n",
    "| 8     |  AU_Optronics_PM060MW0_255  | Canadian_Solar_Inc__CS3W_385P      |        |     |      |      |           |\n",
    "| 9     |  Celestica_C72N300          | CNPV_Dongying_Solar_Power_CNPV_240P|        |     |      |      |           |\n",
    "| 10    |  DJ_Solar_DJS_T285S6ST      | AXITEC_AC_275P_60V        |        |     |      |      |           |"
   ]
  }
 ],
 "metadata": {
  "kernelspec": {
   "display_name": "Python 3",
   "language": "python",
   "name": "python3"
  },
  "language_info": {
   "codemirror_mode": {
    "name": "ipython",
    "version": 3
   },
   "file_extension": ".py",
   "mimetype": "text/x-python",
   "name": "python",
   "nbconvert_exporter": "python",
   "pygments_lexer": "ipython3",
   "version": "3.7.4"
  }
 },
 "nbformat": 4,
 "nbformat_minor": 2
}
