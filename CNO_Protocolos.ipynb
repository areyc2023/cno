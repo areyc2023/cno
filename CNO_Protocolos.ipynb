{
 "cells": [
  {
   "cell_type": "markdown",
   "metadata": {},
   "source": [
    "## Protocolos para el Parque Fotovoltaico"
   ]
  },
  {
   "cell_type": "code",
   "execution_count": 1,
   "metadata": {},
   "outputs": [
    {
     "data": {
      "application/vnd.jupyter.widget-view+json": {
       "model_id": "12819d00700d4a898251f3130caecd4f",
       "version_major": 2,
       "version_minor": 0
      },
      "text/plain": [
       "VBox(children=(Tab(children=(Box(children=(HTML(value='<h4>Documentación</h4>', layout=Layout(height='auto')),…"
      ]
     },
     "metadata": {},
     "output_type": "display_data"
    },
    {
     "name": "stderr",
     "output_type": "stream",
     "text": [
      "2022-10-03 15:28:08.846 python[35286:1126536] +[CATransaction synchronize] called within transaction\n",
      "2022-10-03 15:28:28.664 python[35286:1126536] +[CATransaction synchronize] called within transaction\n",
      "2022-10-03 15:28:28.675 python[35286:1126536] +[CATransaction synchronize] called within transaction\n",
      "2022-10-03 15:28:30.492 python[35286:1126536] +[CATransaction synchronize] called within transaction\n"
     ]
    }
   ],
   "source": [
    "import cnosolarV2 as cno # VERSIÓN 2: import cnosolarV2 as cno\n",
    "cno.gui_protocols.execute()"
   ]
  },
  {
   "cell_type": "markdown",
   "metadata": {},
   "source": [
    "---"
   ]
  }
 ],
 "metadata": {
  "kernelspec": {
   "display_name": "cno-solar",
   "language": "python",
   "name": "cno-solar"
  },
  "language_info": {
   "codemirror_mode": {
    "name": "ipython",
    "version": 3
   },
   "file_extension": ".py",
   "mimetype": "text/x-python",
   "name": "python",
   "nbconvert_exporter": "python",
   "pygments_lexer": "ipython3",
   "version": "3.10.6"
  }
 },
 "nbformat": 4,
 "nbformat_minor": 4
}
